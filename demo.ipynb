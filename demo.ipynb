{
 "cells": [
  {
   "cell_type": "markdown",
   "id": "b6577085-11ca-4a4d-80d6-ccfe9abe86bb",
   "metadata": {},
   "source": [
    "# S-EPGP demo"
   ]
  },
  {
   "cell_type": "markdown",
   "id": "b4cc42ad-16a5-4ac5-b4e0-bc0ed097c14b",
   "metadata": {
    "jp-MarkdownHeadingCollapsed": true,
    "tags": []
   },
   "source": [
    "## Imports, etc"
   ]
  },
  {
   "cell_type": "code",
   "execution_count": 1,
   "id": "8b46ddf6-ffa6-4c63-b6d2-326cffb59a61",
   "metadata": {
    "tags": []
   },
   "outputs": [],
   "source": [
    "## Imports\n",
    "import torch\n",
    "import matplotlib.pyplot as plt\n",
    "import numpy as np\n",
    "import pandas as pd\n",
    "from pde import CartesianGrid, solve_laplace_equation\n",
    "\n",
    "# Get cpu or gpu device for training.\n",
    "device = \"cuda\" if torch.cuda.is_available() else \"cpu\"\n",
    "\n",
    "torch.set_default_dtype(torch.float64)\n",
    "torch.manual_seed(13);"
   ]
  },
  {
   "cell_type": "markdown",
   "id": "0981e43a-180b-4eb7-bbfa-0564ea138ce7",
   "metadata": {},
   "source": [
    "## True solution"
   ]
  },
  {
   "attachments": {},
   "cell_type": "markdown",
   "id": "30bc5366-d39c-44d3-8b72-c8700bd5c863",
   "metadata": {},
   "source": [
    "We compute a numerical solution to the Laplace equation in 2D: $\\partial_x^2 + \\partial_y^2 = 0$."
   ]
  },
  {
   "cell_type": "code",
   "execution_count": 2,
   "id": "727eb17e-54e0-4897-af06-3c56a1f56c92",
   "metadata": {},
   "outputs": [
    {
     "data": {
      "image/png": "[encoded data removed]",
      "text/plain": [
       "<Figure size 432x288 with 2 Axes>"
      ]
     },
     "metadata": {
      "needs_background": "light"
     },
     "output_type": "display_data"
    }
   ],
   "source": [
    "grid = CartesianGrid([[0, 2 * np.pi]] * 2, 64)\n",
    "bcs = [{\"value\": \"sin(y)\"}, {\"value\": \"sin(x)\"}]\n",
    "\n",
    "res = solve_laplace_equation(grid, bcs)\n",
    "res.plot();"
   ]
  },
  {
   "cell_type": "markdown",
   "id": "7d2a7200-2f6f-4473-bd81-1a5386ba04bf",
   "metadata": {},
   "source": [
    "We convert the `py-pde` types to PyTorch tensors"
   ]
  },
  {
   "cell_type": "code",
   "execution_count": 3,
   "id": "6d3d2cc1-0e76-4ef7-9e81-9078784e7113",
   "metadata": {},
   "outputs": [],
   "source": [
    "Ps = torch.tensor(grid.cell_coords)\n",
    "u_true = torch.tensor(res.data)"
   ]
  },
  {
   "cell_type": "markdown",
   "id": "7e2710b3-3cf5-4660-aa9e-d2b3ca9d6526",
   "metadata": {},
   "source": [
    "Learning data will consist of randomly sampled points in the numerical solution"
   ]
  },
  {
   "cell_type": "code",
   "execution_count": 4,
   "id": "68501da2-bfc1-40f3-a28a-43be015bb65a",
   "metadata": {},
   "outputs": [],
   "source": [
    "train_pts = 50\n",
    "train_idx = torch.randperm(len(u_true.flatten()))[:train_pts]\n",
    "X = Ps.flatten(0,1)[train_idx]\n",
    "U = u_true.flatten()[train_idx]"
   ]
  },
  {
   "cell_type": "markdown",
   "id": "54ab3804-90ee-4651-b8f9-acdc03e68153",
   "metadata": {},
   "source": [
    "## Setting up a S-EPGP kernel"
   ]
  },
  {
   "attachments": {},
   "cell_type": "markdown",
   "id": "46a5ed1e-0a28-4e96-be32-209525616d26",
   "metadata": {},
   "source": [
    "Running the command `solvePDE` in Macaulay2 reveals two varieties, namely the lines $ a = i b$ and $a = - i b$, where $a,b$ are spectral variables corresponding to $x,y$ respectively. For both lines, there is only one Noetherian multiplier, namely 1. This means that the Ehrenpreis-Palamodov representation of solutions to Laplace's equations are of the form\n",
    "$$\n",
    "\\int_{a = ib} e^{ax + by} \\, d\\mu_1(a,b) + \\int_{a=-ib} e^{ax + by} \\, d\\mu_2(a,b)\n",
    "$$"
   ]
  },
  {
   "cell_type": "markdown",
   "id": "f0b910e3-994a-4958-8599-a0801493706b",
   "metadata": {},
   "source": [
    "By parametrizing the two lines, we can rewrite the integrals in a simpler form.\n",
    "We use the parametrizations\n",
    "$$ (a,b) = ((1+i)c, (1-i)c) \\\\ (a,b) = ((1-i)c, (1+i)c) $$\n",
    "\n",
    "The integrals then become\n",
    "$$\n",
    "\\int_{\\mathbb C} e^{(1+i)cx + (1-i)cy} \\, d\\mu_1'(c) + \\int_{\\mathbb C} e^{(1-i)cx + (1+i)cy} \\, d\\mu_2'(c)\n",
    "$$"
   ]
  },
  {
   "cell_type": "markdown",
   "id": "da6fbd96-7808-4534-9b5f-39854c96f1d1",
   "metadata": {},
   "source": [
    "We approximate each measure with $m$ Dirac delta measures. This translates to the S-EPGP kernel\n",
    "$$ k(x,y) = \\Phi(x,y)^H \\Sigma \\Phi(x,y), $$\n",
    "where $\\Phi(x,y)$ is the vector with entries\n",
    "$$ \n",
    "\\Phi(x,y)_j = \\begin{cases} e^{(1+i)c_jx + (1-i)c_jy}, & \\text{if } j = 1,\\dotsc,m \\\\ e^{(1-i)c_jx + (1+i)c_jy}, & \\text{if } j = m+1, \\dotsc, 2m \\end{cases},\n",
    "$$\n",
    "and $\\Sigma$ is a $2m \\times 2m$ diagonal matrix with positive entries $\\sigma_j^2$."
   ]
  },
  {
   "cell_type": "markdown",
   "id": "8dc395f6-27db-40bd-b724-8e4f85c289a2",
   "metadata": {},
   "source": [
    "Our goal will be to learn the $c_j \\in \\mathbb C, \\sigma_j^2 > 0$ that minimize the log-marginal likelihood."
   ]
  },
  {
   "cell_type": "markdown",
   "id": "59594d8b-6f53-4045-9c4b-bf375ea2690a",
   "metadata": {},
   "source": [
    "Given an array `c` of length `2m` and a `s × 2` matrix `X` of points `(x,y)`, the function `Phi` returns the `2m × s` matrix with columns $\\Phi(x,y)$."
   ]
  },
  {
   "cell_type": "code",
   "execution_count": 5,
   "id": "65e8cce8-2e7b-45b0-b0a2-cb30815ccfe4",
   "metadata": {},
   "outputs": [],
   "source": [
    "def Phi(c,X):\n",
    "    c1, c2 = c.chunk(2)\n",
    "    c1 = c1.unsqueeze(1) * torch.tensor([1+1.j,1-1.j])\n",
    "    c2 = c2.unsqueeze(1) * torch.tensor([1-1.j,1+1.j])\n",
    "    cc = torch.cat([c1,c2])\n",
    "    return cc.inner(X).exp()"
   ]
  },
  {
   "cell_type": "markdown",
   "id": "799bcd0b-d04d-417f-8dd4-d750788f8039",
   "metadata": {},
   "source": [
    "## Objective function"
   ]
  },
  {
   "cell_type": "markdown",
   "id": "27a3cdc7-075c-47bf-be2d-b7a2678e61f8",
   "metadata": {},
   "source": [
    "Suppose we are trying to learn on $s$ data points.\n",
    "Let $X$ be the $s \\times 2$ matrix with input points $x_k, y_k$, and $U$ the $s \\times 1$ vector with output values $u_k$.\n",
    "Let $\\Phi$ be the $2m \\times s$ matrix of features obtained by the function `Phi` above.\n",
    "\n",
    "The negative log-marginal likelihood function is\n",
    "$$\n",
    "\\frac{1}{2\\sigma_0^2}(U^TU - U^T\\Phi^HA^{-1}\\Phi U) + \\frac{s - 2m}{2} \\log \\sigma_0^2 + \\frac{1}{2} \\log |A| + \\frac{1}{2} \\log |\\Sigma| + \\frac{n}{2} \\log 2\\pi,\n",
    "$$\n",
    "where $\\sigma_0^2$ is a noise coefficient, and\n",
    "$$ A = \\Phi \\Phi^H + \\sigma_0^2 \\Sigma^{-1} $$"
   ]
  },
  {
   "cell_type": "markdown",
   "id": "da242e6f-0bcc-4af1-bd18-fc7e2e408d99",
   "metadata": {},
   "source": [
    "This can be computed efficiently using a Cholesky decomposition: $A = LL^H$. Ignoring constants and exploiting the structure of $\\Sigma$, we get the objective function\n",
    "$$\n",
    "\\frac{1}{2\\sigma^2}(\\|U\\|^2 - \\|L^{-1}\\Phi U\\|^2) + \\frac{s-2m}{2} \\log \\sigma_0^2 + \\sum_{j=1}^{2m} \\log L_{j,j} + \\frac{1}{2} \\sum_{j=1}^{2m} \\log \\sigma_j^2\n",
    "$$\n",
    "\n",
    "The function below computes the Negative Log-Marginal Likelihood (NLML). Here we assume that `Sigma` is a length $2m$ vector of values $\\log \\sigma_j^2$, and `sigma0` is $\\log \\sigma_0^2$"
   ]
  },
  {
   "cell_type": "code",
   "execution_count": 6,
   "id": "90729552-15a9-4702-97ab-4ed05a20d48c",
   "metadata": {},
   "outputs": [],
   "source": [
    "def NLML(X,U,c,Sigma,sigma0):\n",
    "    phi = Phi(c,X)\n",
    "    A = phi @ phi.H + torch.diag_embed((sigma0-Sigma).exp())\n",
    "    L = torch.linalg.cholesky(A)\n",
    "    alpha = torch.linalg.solve_triangular(L, phi @ U, upper=False)\n",
    "    nlml = 1/(2*sigma0.exp()) * (U.norm().square() - alpha.norm().square())\n",
    "    nlml += (phi.shape[1] - phi.shape[0])/2 * sigma0\n",
    "    nlml += L.diag().real.log().sum()\n",
    "    nlml += 1/2 * Sigma.sum()\n",
    "    return nlml"
   ]
  },
  {
   "cell_type": "markdown",
   "id": "d6ccd185-4ad9-45f5-abda-7f46d18cbe39",
   "metadata": {},
   "source": [
    "## Training"
   ]
  },
  {
   "cell_type": "markdown",
   "id": "b04e2934-2c1f-4222-b4a1-a7b046b91206",
   "metadata": {},
   "source": [
    "We now set up parameters, initial values, optimizers and the training routine. We will use $m = 8$ Dirac delta measures for each integral."
   ]
  },
  {
   "cell_type": "code",
   "execution_count": 7,
   "id": "6cc656f1-f938-4a97-a8b8-853fdfb8df61",
   "metadata": {},
   "outputs": [],
   "source": [
    "m = 8\n",
    "Sigma = torch.full((2*m,), -np.log(2*m)).requires_grad_()\n",
    "sigma0 = torch.tensor(np.log(1e-5)).requires_grad_()\n",
    "c = (1*torch.randn(2*m, dtype=torch.complex128)).requires_grad_()\n",
    "\n",
    "U = U.to(torch.complex128).reshape(-1,1)\n",
    "X = X.to(torch.complex128)"
   ]
  },
  {
   "cell_type": "code",
   "execution_count": 8,
   "id": "c7da9f80-f644-4700-b0a3-0b686985d5e1",
   "metadata": {
    "scrolled": true,
    "tags": []
   },
   "outputs": [],
   "source": [
    "def train(opt, sched, epoch_max = 1000):\n",
    "    for epoch in range(epoch_max):\n",
    "        nlml = NLML(X,U,c,Sigma,sigma0)\n",
    "\n",
    "        print(f'Epoch {epoch+1}/{epoch_max}\\tNLML {nlml.detach():.3f}\\tsigma0 {sigma0.exp():.3}\\tc std {c.std():.3f}\\tlr {sched.get_last_lr()[0]}', end='\\r')\n",
    "\n",
    "        opt.zero_grad()\n",
    "        nlml.backward()\n",
    "        opt.step()\n",
    "        sched.step()"
   ]
  },
  {
   "cell_type": "markdown",
   "id": "70efdb0d-f9fb-4063-ae45-7524c193ac71",
   "metadata": {},
   "source": [
    "Here we use a simple Adam optimizer, with learning rate 0.1, and decaying by a factor of 10 every 1000 steps.\n",
    "We train for 3000 epochs."
   ]
  },
  {
   "cell_type": "code",
   "execution_count": 9,
   "id": "ad3f6a1e-774a-4fd0-b21b-f19a6e1f0496",
   "metadata": {},
   "outputs": [
    {
     "name": "stdout",
     "output_type": "stream",
     "text": [
      "Epoch 3000/3000\tNLML -232.572\tsigma0 7.4e-06\tc std 0.695\tlr 0.011\r"
     ]
    }
   ],
   "source": [
    "opt = torch.optim.Adam([c,Sigma,sigma0], lr = 1e-2)\n",
    "sched = torch.optim.lr_scheduler.StepLR(opt,3000,gamma=0.1)\n",
    "train(opt,sched,3000)"
   ]
  },
  {
   "cell_type": "markdown",
   "id": "3a4ffdeb-2491-4e9c-b43d-963ce0825b46",
   "metadata": {},
   "source": [
    "## Prediction"
   ]
  },
  {
   "cell_type": "markdown",
   "id": "cc85a455-8d1a-47cd-88eb-dc6efaeeeb6c",
   "metadata": {},
   "source": [
    "Suppose we want to use our trained model to predict the value of the function at $r$ points $(x,y)$, organized in the $r \\times 2$ matrix $X_*$. \n",
    "We will do inference using the posterior mean, which is given by\n",
    "$$\n",
    "\\Phi_*^H A^{-1} \\Phi U,\n",
    "$$\n",
    "where $\\Phi_*$ is the $2m \\times r$ matrix, with columns $\\Phi(x,y)$ for each row in $X_*$.\n",
    "\n",
    "The following function computes the prediction, where the variable `X_` corresponds to $X_*$"
   ]
  },
  {
   "cell_type": "code",
   "execution_count": 10,
   "id": "c9f720fa-e8c5-4fec-90e8-e6791d558951",
   "metadata": {},
   "outputs": [],
   "source": [
    "def predict(X_, X,U,c,Sigma,sigma0):\n",
    "    with torch.no_grad():\n",
    "        phi = Phi(c,X)\n",
    "        A = phi @ phi.H + torch.diag_embed((sigma0-Sigma).exp())\n",
    "        L = torch.linalg.cholesky(A)\n",
    "\n",
    "        alpha = torch.linalg.solve_triangular(L, phi @ U, upper=False)\n",
    "        alpha1 = torch.linalg.solve_triangular(L.H, alpha, upper=True)\n",
    "\n",
    "        phi_ = Phi(c,X_)\n",
    "        return (phi_.H @ alpha1).real    "
   ]
  },
  {
   "cell_type": "code",
   "execution_count": 11,
   "id": "49f53b82-9963-4b7d-a6e5-d8f36e1e6d9f",
   "metadata": {},
   "outputs": [],
   "source": [
    "X_ = Ps.flatten(0,1).to(torch.complex128)\n",
    "u_pred = predict(X_, X, U, c, Sigma, sigma0)"
   ]
  },
  {
   "cell_type": "markdown",
   "id": "3e93c7d2-6af4-40bb-ae37-9f5041dddc87",
   "metadata": {},
   "source": [
    "The root mean square error of our prediction is below"
   ]
  },
  {
   "cell_type": "code",
   "execution_count": 12,
   "id": "660018f2-a909-40b8-b99e-8529ed07b7cf",
   "metadata": {},
   "outputs": [
    {
     "data": {
      "text/plain": [
       "0.0003669123836532972"
      ]
     },
     "execution_count": 12,
     "metadata": {},
     "output_type": "execute_result"
    }
   ],
   "source": [
    "(u_pred.view_as(u_true) - u_true).square().mean().sqrt().item()"
   ]
  },
  {
   "attachments": {},
   "cell_type": "markdown",
   "id": "bc862bac-9d28-42fc-82f7-6f7b2ec77492",
   "metadata": {},
   "source": [
    "We can also visually compare the true solution with our prediction."
   ]
  },
  {
   "cell_type": "code",
   "execution_count": 13,
   "id": "17393608-1839-4130-b392-394349796b3e",
   "metadata": {},
   "outputs": [
    {
     "data": {
      "image/png": "[encoded data removed]",
      "text/plain": [
       "<Figure size 432x288 with 2 Axes>"
      ]
     },
     "metadata": {
      "needs_background": "light"
     },
     "output_type": "display_data"
    }
   ],
   "source": [
    "ax = plt.imshow(u_true,extent=2*[0,2*np.pi])\n",
    "plt.colorbar(ax)\n",
    "plt.title(\"True solution\");"
   ]
  },
  {
   "cell_type": "code",
   "execution_count": 14,
   "id": "8825e69e-d485-476e-a0ca-e298c9f0e3df",
   "metadata": {},
   "outputs": [
    {
     "data": {
      "image/png": "[encoded data removed]",
      "text/plain": [
       "<Figure size 432x288 with 2 Axes>"
      ]
     },
     "metadata": {
      "needs_background": "light"
     },
     "output_type": "display_data"
    }
   ],
   "source": [
    "ax = plt.imshow(u_pred.view_as(u_true),extent=2*[0,2*np.pi])\n",
    "plt.colorbar(ax)\n",
    "plt.title(\"Predicted solution\");"
   ]
  },
  {
   "cell_type": "markdown",
   "id": "067c7c41-ac53-40b3-87fb-e9fbb02aa172",
   "metadata": {},
   "source": [
    "Finally, we plot the difference between the true and predicted solutions"
   ]
  },
  {
   "cell_type": "code",
   "execution_count": 15,
   "id": "aa179616-8de8-4ac2-96aa-6ed47f3649f5",
   "metadata": {},
   "outputs": [
    {
     "data": {
      "image/png": "[encoded data removed]",
      "text/plain": [
       "<Figure size 432x288 with 2 Axes>"
      ]
     },
     "metadata": {
      "needs_background": "light"
     },
     "output_type": "display_data"
    }
   ],
   "source": [
    "diff = u_pred.view_as(u_true) - u_true\n",
    "limit = max(diff.max(), -diff.min())\n",
    "ax = plt.imshow(diff,extent=2*[0,2*np.pi], cmap='coolwarm', vmin = -limit, vmax = limit)\n",
    "plt.colorbar(ax)\n",
    "plt.title(\"Diff\");"
   ]
  }
 ],
 "metadata": {
  "kernelspec": {
   "display_name": "Python 3",
   "language": "python",
   "name": "python3"
  },
  "language_info": {
   "codemirror_mode": {
    "name": "ipython",
    "version": 3
   },
   "file_extension": ".py",
   "mimetype": "text/x-python",
   "name": "python",
   "nbconvert_exporter": "python",
   "pygments_lexer": "ipython3",
   "version": "3.11.0 (main, Oct 25 2022, 14:13:24) [Clang 14.0.0 (clang-1400.0.29.202)]"
  },
  "vscode": {
   "interpreter": {
    "hash": "1a1af0ee75eeea9e2e1ee996c87e7a2b11a0bebd85af04bb136d915cefc0abce"
   }
  }
 },
 "nbformat": 4,
 "nbformat_minor": 5
}
